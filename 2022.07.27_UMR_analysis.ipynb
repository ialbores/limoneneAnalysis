{
 "cells": [
  {
   "cell_type": "markdown",
   "id": "6e03d414-e3d2-4f1e-a82e-b3d555ab2d53",
   "metadata": {},
   "source": [
    "Import necessary packages"
   ]
  },
  {
   "cell_type": "code",
   "execution_count": 1,
   "id": "efeadbd8",
   "metadata": {},
   "outputs": [],
   "source": [
    "import h5py    \n",
    "import numpy as np    \n",
    "import pandas as pd\n",
    "import time,datetime,matplotlib\n",
    "import matplotlib.pyplot as plt\n",
    "import matplotlib.dates as mdates\n",
    "from dateutil import tz\n",
    "import pytz\n",
    "import datetime as dt\n",
    "import matplotlib.dates as mdates\n",
    "import matplotlib.pyplot as plt\n",
    "import csv\n",
    "import re"
   ]
  },
  {
   "cell_type": "code",
   "execution_count": 2,
   "id": "27ee51d4-9cbd-4671-9bb6-eb9b3f44fc98",
   "metadata": {},
   "outputs": [],
   "source": [
    "#import stick file (change as needed)\n",
    "data= pd.read_csv('2022.07.27_UMR.csv')\n",
    "\n",
    "df = pd.DataFrame(data=data).set_index('time')"
   ]
  },
  {
   "cell_type": "code",
   "execution_count": 3,
   "id": "f2511b8e-8765-4be4-801d-ff00166667ba",
   "metadata": {},
   "outputs": [],
   "source": [
    "#sum primary ions\n",
    "PI = df['mz18']*np.sqrt(100/18)+df['mz36']*np.sqrt(100/36)+df['mz35']*np.sqrt(100/35)\n",
    "\n",
    "# calculate the DCPS, NDCPS\n",
    "# a note on DCPS- stands for duty cycle corrected counts per second. Accounts for the fact that\n",
    "# ions of different masses take different amounts of time to reach the detector\n",
    "masslist = list(range(1,707))\n",
    "for i in df.columns.to_list():\n",
    "    masslist.append(re.findall(r'\\b\\d+\\b', i))\n",
    "masslist_array=np.array(masslist[0:705])\n",
    "masslist=masslist[0:705]\n",
    "DCPS = df.mul(np.sqrt(100/masslist_array), axis=1)\n",
    "NDCPS = DCPS.apply(lambda x: x*1e6/PI)\n"
   ]
  },
  {
   "cell_type": "code",
   "execution_count": null,
   "id": "360c6127-13ca-4f57-9ef8-3115e969bf00",
   "metadata": {},
   "outputs": [],
   "source": [
    "#define plotting function\n",
    "def Cps_plot(data, units, title):\n",
    "    ax = plt.axes()\n",
    "    plt.plot(data)\n",
    "    # naming the x axis\n",
    "    plt.xlabel('datetime')\n",
    "    # naming the y axis\n",
    "    plt.ylabel(units)\n",
    "    # giving a title to my graph\n",
    "    plt.title(title)\n",
    "    plt.legend(data.columns, loc='center left', bbox_to_anchor=(1, 0.5), ncol=10)\n",
    "   # formatter = mdates.DateFormatter('%m/%d %T %Z')#, tz=NDCPS.index.tz)\n",
    "    #plt.gca().xaxis.set_major_formatter(formatter)\n",
    "    ax.xaxis.set_major_locator(plt.MaxNLocator(4))\n",
    "    plt.setp(plt.gca().xaxis.get_majorticklabels(),\n",
    "         'rotation', 90)\n",
    "    # function to show the plot\n",
    "    plt.show()\n",
    "\n",
    "#plot full experiment\n",
    "Cps_plot(NDCPS, 'NDCPS', 'NDCPS v time')"
   ]
  },
  {
   "cell_type": "code",
   "execution_count": null,
   "id": "6f4152a7-ee6c-4189-8e0c-2b937d8a0bd8",
   "metadata": {},
   "outputs": [],
   "source": [
    "#remove CID scan\n",
    "NDCPS_2 = NDCPS\n",
    "\n",
    "# subset for experiment time\n",
    "BGStart = '2022-07-27 10:00'\n",
    "BGEnd = '2022-07-27 10:10'\n",
    "SigAvgStart = '2022-07-27 10:44'\n",
    "SigAvgEnd = '2022-07-27 13:00'\n",
    "\n",
    "expt = NDCPS_2[((NDCPS_2.index >= SigAvgStart)\n",
    "      &(NDCPS_2.index <= SigAvgEnd))]\n",
    "bg= NDCPS_2[((NDCPS_2.index >= BGStart)\n",
    "      &(NDCPS_2.index <= BGEnd))]"
   ]
  },
  {
   "cell_type": "code",
   "execution_count": null,
   "id": "8da6b329-33f4-47e3-a719-1917834bd5ff",
   "metadata": {},
   "outputs": [],
   "source": [
    "#plot experiment data with all mz\n",
    "Cps_plot(expt, 'NDCPS', 'NDCPS v time')"
   ]
  },
  {
   "cell_type": "code",
   "execution_count": null,
   "id": "aa79bc11-c611-46ad-a6c2-1cf50140cc94",
   "metadata": {},
   "outputs": [],
   "source": [
    "#dilution correct with ACN\n",
    "ACN = expt['mz59']\n",
    "frac_remaining = ACN/ACN[1]\n",
    "\n",
    "expt_corrected = expt.mul(1/frac_remaining[1], axis=1)"
   ]
  },
  {
   "cell_type": "code",
   "execution_count": null,
   "id": "da79e812-0c26-4dbe-b947-48487855179c",
   "metadata": {},
   "outputs": [],
   "source": [
    "#t-test to identify all compounds with a statistically significant change in signal\n",
    "from scipy import stats\n",
    "\n",
    "t_test = stats.ttest_ind(bg, expt_corrected)\n",
    "t_test_df= pd.DataFrame(t_test).transpose()\n",
    "\n",
    "\n",
    "#if p-value is more than 0.05, set value to N/A\n",
    "for i in range(len(t_test_df)):\n",
    "    if t_test_df[1][i] > 0.05:\n",
    "        t_test_df[1][i] = np.nan\n",
    "\n",
    "t_test_df=t_test_df.transpose()\n",
    "t_test_df"
   ]
  },
  {
   "cell_type": "code",
   "execution_count": null,
   "id": "bbe2156c-9e6d-4a21-be61-5b3f540a75d0",
   "metadata": {},
   "outputs": [],
   "source": [
    "# background correct \n",
    "bg_avg = bg.mean(axis=0)\n",
    "expt_bg_corrected = expt_corrected - bg_avg\n",
    "\n",
    "#append p-values to dataset \n",
    "t_test_df.columns = expt_bg_corrected.columns\n",
    "expt_bg_corrected = pd.concat([expt_bg_corrected, t_test_df], axis=0)\n",
    "\n",
    "# get rid of columns with N/A p-values\n",
    "expt_bg_corrected = expt_bg_corrected.dropna(axis='columns')\n",
    "\n",
    "expt_bg_corrected = expt_bg_corrected.drop(axis=0, labels=[0,1])\n"
   ]
  },
  {
   "cell_type": "code",
   "execution_count": null,
   "id": "5998d9be-1fb1-4067-961d-247e91011ea7",
   "metadata": {},
   "outputs": [],
   "source": [
    "expt_final = expt_bg_corrected"
   ]
  },
  {
   "cell_type": "code",
   "execution_count": null,
   "id": "b5a151b9-cac4-4e83-b30b-6bf7f786e78c",
   "metadata": {},
   "outputs": [],
   "source": [
    "df_products= pd.DataFrame([expt_final['mz186'], expt_final['mz172']]).transpose()"
   ]
  },
  {
   "cell_type": "code",
   "execution_count": null,
   "id": "ad96ed54-f8d3-4ae4-848c-a73cdd396113",
   "metadata": {},
   "outputs": [],
   "source": [
    "# plot limonene decay\n",
    "Cps_plot(pd.DataFrame(expt_final['mz154']), 'NDCPS', 'limonene decay')"
   ]
  },
  {
   "cell_type": "code",
   "execution_count": null,
   "id": "70805943-af70-42fc-b39f-8751be5f3c19",
   "metadata": {},
   "outputs": [],
   "source": [
    "# plot specific products\n",
    "# 186=limal/limbco, 200= no assigned structure, 202=limononic, 204=limonic/ketolimononic, 156=limket\n",
    "df_products= pd.DataFrame([expt_final['mz186'], expt_final['mz200'], expt_final['mz202'], expt_final['mz204'], expt_final['mz156']]).transpose()\n",
    "Cps_plot(df_products, 'NDCPS', 'limonene products')\n"
   ]
  },
  {
   "cell_type": "code",
   "execution_count": null,
   "id": "413f1980-a6e5-4be1-897a-0eaf4403f553",
   "metadata": {},
   "outputs": [],
   "source": [
    "Cps_plot(expt_final, 'NDCPS', 'limonene products')"
   ]
  },
  {
   "cell_type": "code",
   "execution_count": null,
   "id": "aab1515e-f689-489c-bc77-503614c00265",
   "metadata": {},
   "outputs": [],
   "source": [
    "#drop primary ions\n",
    "\n",
    "expt_inc = expt_final.drop(['mz18', 'mz35'], axis=1)\n",
    "\n",
    "\n",
    "#create dataframe with only increasing species\n",
    "expt_inc =expt_inc.loc[:, expt_inc.loc['2022-07-27 10:44:31']<expt_inc.loc['2022-07-27 12:59:31']]\n",
    "\n",
    "# list of statistically significant increasing species between 50 and 300 mass\n",
    "print(expt_inc.loc[:, 'mz51' :'mz300'].columns)\n",
    "\n",
    "#plot statistically significant increasing species between 50 and 300 mass\n",
    "Cps_plot(expt_inc.loc[:, 'mz51' :'mz300'], 'NDCPS', 'increasing')\n",
    "\n",
    "\n",
    "#plot 10 masses with largest increase \n",
    "maximums = pd.DataFrame(expt_inc.drop(columns='seconds').max(axis = 0))\n",
    "minimums = pd.DataFrame(expt_inc.drop(columns='seconds').min(axis = 0))\n",
    "change =maximums-minimums\n",
    "change.columns = ['change']\n",
    "top10 = change.nlargest(10,'change')\n",
    "top_10_df = expt_inc[top10.index]\n",
    "\n",
    "Cps_plot(top_10_df, 'NDCPS', 'top 10')"
   ]
  },
  {
   "cell_type": "code",
   "execution_count": null,
   "id": "1bbf1dea-8cbf-4b81-a1a2-f30badf05114",
   "metadata": {},
   "outputs": [],
   "source": [
    "#plot 10 masses with largest increase in log scale\n",
    "maximums = pd.DataFrame(expt_inc.drop(columns='seconds').max(axis = 0))\n",
    "minimums = pd.DataFrame(expt_inc.drop(columns='seconds').min(axis = 0))\n",
    "change =maximums-minimums\n",
    "change.columns = ['change']\n",
    "top10 = change.nlargest(10,'change')\n",
    "top_10_df = expt_inc[top10.index]\n",
    "\n",
    "Cps_plot(np.log(top_10_df), 'log(NDCPS)', 'top 10')"
   ]
  },
  {
   "cell_type": "code",
   "execution_count": null,
   "id": "980c7c77-c70d-4b12-9c29-156651d7ee4f",
   "metadata": {},
   "outputs": [],
   "source": [
    "#plot 10 masses with largest change \n",
    "maximums = pd.DataFrame(expt_final.drop(columns='seconds').max(axis = 0))\n",
    "minimums = pd.DataFrame(expt_final.drop(columns='seconds').min(axis = 0))\n",
    "change =maximums-minimums\n",
    "change.columns = ['change']\n",
    "top10 = change.nlargest(10,'change')\n",
    "top_10_df = expt_final[top10.index]\n",
    "\n",
    "Cps_plot(top_10_df, 'NDCPS', 'top 10')"
   ]
  },
  {
   "cell_type": "code",
   "execution_count": null,
   "id": "0db36990-cf99-4b61-ac9e-139db46aa86d",
   "metadata": {},
   "outputs": [],
   "source": [
    "#plot dProduct v. dLimonene for top 10\n",
    "\n",
    "plt.plot(expt_final['mz154'][1]-expt_final['mz154'], expt_corrected['mz186'], label='mz186')\n",
    "plt.plot(expt_final['mz154'][1]-expt_final['mz154'], expt_corrected['mz202'], label='mz202')\n",
    "plt.plot(expt_final['mz154'][1]-expt_final['mz154'], expt_corrected['mz188'], label='mz188')\n",
    "plt.plot(expt_final['mz154'][1]-expt_final['mz154'], expt_corrected['mz92'], label='mz92')\n",
    "plt.plot(expt_final['mz154'][1]-expt_final['mz154'], expt_corrected['mz187'], label='mz187')\n",
    "plt.plot(expt_final['mz154'][1]-expt_final['mz154'], expt_corrected['mz169'], label='mz169')\n",
    "plt.plot(expt_final['mz154'][1]-expt_final['mz154'], expt_corrected['mz185'], label='mz185')\n",
    "plt.plot(expt_final['mz154'][1]-expt_final['mz154'], expt_corrected['mz233'], label='mz233')\n",
    "plt.plot(expt_final['mz154'][1]-expt_final['mz154'], expt_corrected['mz174'], label='mz174')\n",
    "plt.plot(expt_final['mz154'][1]-expt_final['mz154'], expt_corrected['mz204'], label='mz204')\n",
    "\n",
    "\n",
    "\n",
    "\n",
    "plt.title ('product yield')\n",
    "plt.ylabel('delta product (NDCPS)')\n",
    "plt.xlabel('delta LIMONENE (NDCPS)')\n",
    "plt.legend()"
   ]
  },
  {
   "cell_type": "code",
   "execution_count": null,
   "id": "545d0e5e-ec6e-4323-9a02-e814142b0a2a",
   "metadata": {},
   "outputs": [],
   "source": []
  }
 ],
 "metadata": {
  "kernelspec": {
   "display_name": "Python 3 (ipykernel)",
   "language": "python",
   "name": "python3"
  },
  "language_info": {
   "codemirror_mode": {
    "name": "ipython",
    "version": 3
   },
   "file_extension": ".py",
   "mimetype": "text/x-python",
   "name": "python",
   "nbconvert_exporter": "python",
   "pygments_lexer": "ipython3",
   "version": "3.9.12"
  }
 },
 "nbformat": 4,
 "nbformat_minor": 5
}
